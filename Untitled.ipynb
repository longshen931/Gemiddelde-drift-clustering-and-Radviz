{
 "cells": [
  {
   "cell_type": "code",
   "execution_count": 2,
   "id": "a60ea546",
   "metadata": {},
   "outputs": [
    {
     "data": {
      "text/html": [
       "<div>\n",
       "<style scoped>\n",
       "    .dataframe tbody tr th:only-of-type {\n",
       "        vertical-align: middle;\n",
       "    }\n",
       "\n",
       "    .dataframe tbody tr th {\n",
       "        vertical-align: top;\n",
       "    }\n",
       "\n",
       "    .dataframe thead th {\n",
       "        text-align: right;\n",
       "    }\n",
       "</style>\n",
       "<table border=\"1\" class=\"dataframe\">\n",
       "  <thead>\n",
       "    <tr style=\"text-align: right;\">\n",
       "      <th></th>\n",
       "      <th>labels</th>\n",
       "      <th>dim2</th>\n",
       "      <th>dim6</th>\n",
       "      <th>dim7</th>\n",
       "      <th>dim8</th>\n",
       "      <th>Name3Class</th>\n",
       "    </tr>\n",
       "  </thead>\n",
       "  <tbody>\n",
       "    <tr>\n",
       "      <th>0</th>\n",
       "      <td>r155</td>\n",
       "      <td>0.314345</td>\n",
       "      <td>0.393007</td>\n",
       "      <td>0.044667</td>\n",
       "      <td>0.118493</td>\n",
       "      <td>3</td>\n",
       "    </tr>\n",
       "    <tr>\n",
       "      <th>1</th>\n",
       "      <td>r156</td>\n",
       "      <td>0.327695</td>\n",
       "      <td>0.410825</td>\n",
       "      <td>0.033796</td>\n",
       "      <td>0.070825</td>\n",
       "      <td>3</td>\n",
       "    </tr>\n",
       "    <tr>\n",
       "      <th>2</th>\n",
       "      <td>r157</td>\n",
       "      <td>0.316753</td>\n",
       "      <td>0.433747</td>\n",
       "      <td>0.054407</td>\n",
       "      <td>0.122989</td>\n",
       "      <td>3</td>\n",
       "    </tr>\n",
       "    <tr>\n",
       "      <th>3</th>\n",
       "      <td>r158</td>\n",
       "      <td>0.363791</td>\n",
       "      <td>0.399353</td>\n",
       "      <td>0.070283</td>\n",
       "      <td>0.097313</td>\n",
       "      <td>3</td>\n",
       "    </tr>\n",
       "    <tr>\n",
       "      <th>4</th>\n",
       "      <td>r159</td>\n",
       "      <td>0.320207</td>\n",
       "      <td>0.416929</td>\n",
       "      <td>0.066920</td>\n",
       "      <td>0.081252</td>\n",
       "      <td>3</td>\n",
       "    </tr>\n",
       "  </tbody>\n",
       "</table>\n",
       "</div>"
      ],
      "text/plain": [
       "  labels      dim2      dim6      dim7      dim8  Name3Class\n",
       "0   r155  0.314345  0.393007  0.044667  0.118493           3\n",
       "1   r156  0.327695  0.410825  0.033796  0.070825           3\n",
       "2   r157  0.316753  0.433747  0.054407  0.122989           3\n",
       "3   r158  0.363791  0.399353  0.070283  0.097313           3\n",
       "4   r159  0.320207  0.416929  0.066920  0.081252           3"
      ]
     },
     "execution_count": 2,
     "metadata": {},
     "output_type": "execute_result"
    }
   ],
   "source": [
    "import numpy as np\n",
    "import pandas as pd\n",
    "import sklearn.cluster as sc\n",
    "import matplotlib.pyplot as mp\n",
    "\n",
    "df=pd.read_csv(\"4DIn12D.csv\")\n",
    "df.head()"
   ]
  },
  {
   "cell_type": "code",
   "execution_count": 3,
   "id": "ba667d27",
   "metadata": {},
   "outputs": [],
   "source": [
    "x=df.iloc[:,1:-1]\n",
    "y=df.iloc[:,-1]"
   ]
  },
  {
   "cell_type": "code",
   "execution_count": 15,
   "id": "2a85a40f",
   "metadata": {},
   "outputs": [
    {
     "name": "stdout",
     "output_type": "stream",
     "text": [
      "[[0.33446171 0.39758833 0.07444329 0.07910476]\n",
      " [0.60301562 0.22273784 0.74762566 0.78930791]\n",
      " [0.91000036 0.80055592 0.07362254 0.08346961]\n",
      " [0.72607341 0.00129898 0.7066516  0.75453659]\n",
      " [0.21081142 0.01988992 0.74553331 0.82203023]\n",
      " [0.1981935  0.29306436 0.76030567 0.90897026]]\n"
     ]
    }
   ],
   "source": [
    "# 均值漂移实现聚类划分\n",
    "\n",
    "bw = sc.estimate_bandwidth(x, n_samples=len(x), quantile=0.2)\n",
    "model = sc.MeanShift(bandwidth=bw)\n",
    "\n",
    "model.fit(x)\n",
    "centers = model.cluster_centers_\n",
    "print(centers)\n",
    "pred_y = model.predict(x)"
   ]
  },
  {
   "cell_type": "code",
   "execution_count": 16,
   "id": "8bef1825",
   "metadata": {},
   "outputs": [
    {
     "data": {
      "text/plain": [
       "array([0, 0, 0, 0, 0, 0, 0, 0, 0, 0, 0, 0, 0, 0, 0, 0, 0, 0, 0, 0, 0, 0,\n",
       "       0, 0, 0, 0, 0, 0, 0, 0, 0, 0, 0, 0, 0, 0, 0, 0, 0, 0, 0, 0, 0, 0,\n",
       "       0, 0, 0, 0, 0, 0, 0, 0, 0, 0, 0, 0, 0, 0, 0, 0, 0, 0, 0, 0, 0, 0,\n",
       "       0, 0, 0, 0, 0, 0, 0, 0, 0, 0, 0, 0, 0, 0, 0, 0, 0, 0, 0, 0, 0, 0,\n",
       "       0, 0, 0, 0, 0, 0, 0, 0, 0, 0, 0, 0, 0, 0, 0, 0, 0, 0, 0, 0, 0, 0,\n",
       "       0, 0, 0, 0, 0, 0, 0, 0, 0, 0, 0, 0, 0, 0, 0, 0, 0, 0, 0, 0, 0, 0,\n",
       "       0, 0, 0, 0, 0, 2, 2, 2, 2, 2, 2, 2, 2, 2, 2, 2, 2, 2, 2, 2, 2, 2,\n",
       "       2, 2, 2, 2, 2, 2, 2, 2, 2, 2, 2, 2, 2, 2, 2, 2, 2, 2, 2, 2, 2, 2,\n",
       "       2, 2, 2, 2, 2, 2, 2, 2, 2, 2, 2, 2, 2, 2, 2, 2, 2, 2, 2, 2, 2, 2,\n",
       "       2, 2, 2, 2, 2, 2, 2, 2, 2, 2, 2, 2, 2, 1, 3, 1, 1, 1, 1, 1, 1, 1,\n",
       "       1, 1, 1, 1, 1, 1, 1, 1, 1, 1, 1, 1, 1, 1, 1, 1, 5, 1, 1, 1, 1, 1,\n",
       "       1, 1, 1, 1, 1, 1, 4, 1, 1, 1, 1, 1, 1, 1, 1, 1, 1, 1, 1, 1, 1, 1,\n",
       "       1, 1, 1, 1, 1, 1, 1, 1, 1, 1, 1, 1, 1, 1, 1, 1, 1, 1, 1, 1, 1, 1,\n",
       "       1, 1, 1, 1, 1, 1, 1, 1, 1, 1, 1, 1, 1, 1, 1, 1, 1, 1, 1, 1, 1, 1,\n",
       "       1, 1, 1, 1, 1, 1, 1, 1, 1, 1, 1, 1, 1, 1, 1, 1, 1, 1, 1, 1, 1, 1,\n",
       "       1, 1, 1, 1, 1, 1, 1, 1, 1, 1, 1, 1, 1, 1, 1, 1, 1, 1, 1, 1],\n",
       "      dtype=int64)"
      ]
     },
     "execution_count": 16,
     "metadata": {},
     "output_type": "execute_result"
    }
   ],
   "source": [
    "pred_y"
   ]
  },
  {
   "cell_type": "code",
   "execution_count": 18,
   "id": "0921e8a8",
   "metadata": {},
   "outputs": [
    {
     "ename": "ModuleNotFoundError",
     "evalue": "No module named 'yellowbrick'",
     "output_type": "error",
     "traceback": [
      "\u001b[1;31m---------------------------------------------------------------------------\u001b[0m",
      "\u001b[1;31mModuleNotFoundError\u001b[0m                       Traceback (most recent call last)",
      "\u001b[1;32m<ipython-input-18-73a9512b972d>\u001b[0m in \u001b[0;36m<module>\u001b[1;34m\u001b[0m\n\u001b[1;32m----> 1\u001b[1;33m \u001b[1;32mfrom\u001b[0m \u001b[0myellowbrick\u001b[0m\u001b[1;33m.\u001b[0m\u001b[0mfeatures\u001b[0m\u001b[1;33m.\u001b[0m\u001b[0mradviz\u001b[0m \u001b[1;32mimport\u001b[0m \u001b[0mRadViz\u001b[0m\u001b[1;33m\u001b[0m\u001b[1;33m\u001b[0m\u001b[0m\n\u001b[0m",
      "\u001b[1;31mModuleNotFoundError\u001b[0m: No module named 'yellowbrick'"
     ]
    }
   ],
   "source": [
    "from yellowbrick.features.radviz import RadViz"
   ]
  },
  {
   "cell_type": "code",
   "execution_count": null,
   "id": "92bebca0",
   "metadata": {},
   "outputs": [],
   "source": [
    "\n",
    "# 划分聚类边界\n",
    "l, r = x[:, 0].min()-1, x[:, 0].max()+1\n",
    "b, t = x[:, 1].min()-1, x[:, 1].max()+1\n",
    "n = 500\n",
    "grid_x, grid_y = np.meshgrid(\n",
    "\tnp.linspace(l, r, n),\n",
    "\tnp.linspace(b, t, n))\n",
    "mesh_x = np.column_stack((grid_x.ravel(), \n",
    "\tgrid_y.ravel()))\n",
    "pred_mesh_y = model.predict(mesh_x)\n",
    "grid_z = pred_mesh_y.reshape(grid_x.shape)\n",
    "\n",
    "mp.figure('MeanShift', facecolor='lightgray')\n",
    "mp.title('MeanShift', fontsize=16)\n",
    "mp.xlabel('X',fontsize=14)\n",
    "mp.ylabel('Y',fontsize=14)\n",
    "mp.tick_params(labelsize=10)\n",
    "mp.pcolormesh(grid_x,grid_y,grid_z,cmap='gray')\n",
    "mp.scatter(x[:,0], x[:,1], c=pred_y, cmap='jet',\n",
    "\t\tlabel='points')\n",
    "# 绘制聚类中心点\n",
    "mp.scatter(centers[:,0], centers[:,1],\n",
    "\tmarker='+', s=230, c='orangered')\n",
    "mp.legend()\n",
    "mp.show()\n",
    "————————————————\n",
    "版权声明：本文为CSDN博主「Hello AI！」的原创文章，遵循CC 4.0 BY-SA版权协议，转载请附上原文出处链接及本声明。\n",
    "原文链接：https://blog.csdn.net/weixin_45081640/article/details/118106959"
   ]
  }
 ],
 "metadata": {
  "kernelspec": {
   "display_name": "Python 3",
   "language": "python",
   "name": "python3"
  },
  "language_info": {
   "codemirror_mode": {
    "name": "ipython",
    "version": 3
   },
   "file_extension": ".py",
   "mimetype": "text/x-python",
   "name": "python",
   "nbconvert_exporter": "python",
   "pygments_lexer": "ipython3",
   "version": "3.8.8"
  }
 },
 "nbformat": 4,
 "nbformat_minor": 5
}
